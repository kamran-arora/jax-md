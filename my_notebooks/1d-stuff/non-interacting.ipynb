{
 "cells": [
  {
   "cell_type": "code",
   "execution_count": 1,
   "metadata": {},
   "outputs": [],
   "source": [
    "from jax_md import *\n",
    "import jax\n",
    "import jax.random as jr\n",
    "import jax.numpy as jnp\n",
    "import matplotlib.pyplot as plt\n",
    "\n",
    "# jax.config.update(\"jax_enable_x64\", True)"
   ]
  },
  {
   "cell_type": "markdown",
   "metadata": {},
   "source": [
    "setup"
   ]
  },
  {
   "cell_type": "code",
   "execution_count": 2,
   "metadata": {},
   "outputs": [],
   "source": [
    "dim = 1\n",
    "N = 512\n",
    "box_size = 1"
   ]
  },
  {
   "cell_type": "markdown",
   "metadata": {},
   "source": [
    "displacement stuff"
   ]
  },
  {
   "cell_type": "code",
   "execution_count": 3,
   "metadata": {},
   "outputs": [],
   "source": [
    "displacement, shift = space.periodic(box_size)\n",
    "metric = space.metric(displacement)\n",
    "v_displacement = space.map_product(displacement)\n",
    "v_metric = space.map_product(metric)"
   ]
  },
  {
   "cell_type": "markdown",
   "metadata": {},
   "source": [
    "brownian simulation"
   ]
  },
  {
   "cell_type": "code",
   "execution_count": 10,
   "metadata": {},
   "outputs": [],
   "source": [
    "def brownian_simulation(key, temperature, dt, steps, energy_fn):\n",
    "    pos_key, sim_key, times_key = jr.split(key, 3)\n",
    "    # R = jr.uniform(pos_key, (N,1), maxval=box_size)\n",
    "    R = 0.1*jr.normal(pos_key, shape=(N,1 ))+0.5\n",
    "\n",
    "    init_fn, apply_fn = simulate.brownian(energy_fn, shift, dt, temperature)\n",
    "    initial_state = init_fn(sim_key, R)\n",
    "    state = init_fn(sim_key, R)\n",
    "\n",
    "    do_step = lambda state, t: (apply_fn(state), apply_fn(state))\n",
    "    final_state, intermediate_states = jax.lax.scan(do_step, state, steps)\n",
    "\n",
    "    return initial_state.position, final_state.position, intermediate_states.position, times_key"
   ]
  },
  {
   "cell_type": "code",
   "execution_count": 11,
   "metadata": {},
   "outputs": [],
   "source": [
    "initial, final, intermediate, times_key = brownian_simulation(jr.PRNGKey(0), 0.01, 0.01, jnp.arange(10000), lambda r: 0.)"
   ]
  },
  {
   "cell_type": "code",
   "execution_count": 12,
   "metadata": {},
   "outputs": [
    {
     "name": "stdout",
     "output_type": "stream",
     "text": [
      "(10002, 512, 1)\n"
     ]
    }
   ],
   "source": [
    "final = jnp.expand_dims(final, 0)\n",
    "initial = jnp.expand_dims(initial, 0)\n",
    "all_states = jnp.concatenate((initial, intermediate, final), axis=0)\n",
    "print(jnp.shape(all_states))"
   ]
  },
  {
   "cell_type": "code",
   "execution_count": 13,
   "metadata": {},
   "outputs": [],
   "source": [
    "jnp.save(\"test\", all_states)"
   ]
  }
 ],
 "metadata": {
  "kernelspec": {
   "display_name": "dev_env",
   "language": "python",
   "name": "python3"
  },
  "language_info": {
   "codemirror_mode": {
    "name": "ipython",
    "version": 3
   },
   "file_extension": ".py",
   "mimetype": "text/x-python",
   "name": "python",
   "nbconvert_exporter": "python",
   "pygments_lexer": "ipython3",
   "version": "3.11.5"
  }
 },
 "nbformat": 4,
 "nbformat_minor": 2
}
