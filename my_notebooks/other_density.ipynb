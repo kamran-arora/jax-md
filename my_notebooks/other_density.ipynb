{
 "cells": [
  {
   "cell_type": "code",
   "execution_count": 1,
   "metadata": {},
   "outputs": [],
   "source": [
    "from jax_md import *\n",
    "import jax\n",
    "import jax.random as jr\n",
    "import jax.numpy as jnp\n",
    "import matplotlib.pyplot as plt\n",
    "\n",
    "# jax.config.update(\"jax_enable_x64\", True)"
   ]
  },
  {
   "cell_type": "code",
   "execution_count": 2,
   "metadata": {},
   "outputs": [],
   "source": [
    "dim = 2\n",
    "N = 256\n",
    "box_size = quantity.box_size_at_number_density(N, 1, dim)"
   ]
  },
  {
   "cell_type": "code",
   "execution_count": 3,
   "metadata": {},
   "outputs": [],
   "source": [
    "displacement, shift = space.periodic(box_size)\n",
    "metric = space.metric(displacement)\n",
    "v_displacement = space.map_product(displacement)\n",
    "v_metric = space.map_product(metric)"
   ]
  },
  {
   "cell_type": "markdown",
   "metadata": {},
   "source": [
    "My way of doing a brownian simulation, and saving the state at every timestep"
   ]
  },
  {
   "cell_type": "code",
   "execution_count": 4,
   "metadata": {},
   "outputs": [],
   "source": [
    "def brownian_simulation(key, temperature, dt, steps, energy_fn):\n",
    "    pos_key, sim_key, times_key = jr.split(key, 3)\n",
    "    R = jr.uniform(pos_key, (N, 2), maxval=box_size)\n",
    "    #R = jnp.zeros((N, 2))\n",
    "\n",
    "    init_fn, apply_fn = simulate.brownian(energy_fn, shift, dt, temperature)\n",
    "    initial_state = init_fn(sim_key, R)\n",
    "    state = init_fn(sim_key, R)\n",
    "\n",
    "    do_step = lambda state, t: (apply_fn(state), apply_fn(state))\n",
    "    final_state, intermediate_states = jax.lax.scan(do_step, state, steps)\n",
    "\n",
    "    return initial_state.position, final_state.position, intermediate_states.position, times_key"
   ]
  },
  {
   "cell_type": "code",
   "execution_count": 5,
   "metadata": {},
   "outputs": [],
   "source": [
    "initial, final, intermediate, times_key = brownian_simulation(jr.PRNGKey(0), 0.05, 0.01, jnp.arange(1000), lambda r: 0.)"
   ]
  },
  {
   "cell_type": "code",
   "execution_count": 6,
   "metadata": {},
   "outputs": [
    {
     "name": "stdout",
     "output_type": "stream",
     "text": [
      "(1002, 256, 2)\n"
     ]
    }
   ],
   "source": [
    "final = jnp.expand_dims(final, 0)\n",
    "initial = jnp.expand_dims(initial, 0)\n",
    "all_states = jnp.concatenate((initial, intermediate, final), axis=0)\n",
    "print(jnp.shape(all_states))"
   ]
  },
  {
   "cell_type": "code",
   "execution_count": 7,
   "metadata": {},
   "outputs": [],
   "source": [
    "correction = 0.5*box_size*jnp.ones_like(all_states)"
   ]
  },
  {
   "cell_type": "code",
   "execution_count": 8,
   "metadata": {},
   "outputs": [],
   "source": [
    "all_states = all_states - correction"
   ]
  },
  {
   "cell_type": "code",
   "execution_count": 9,
   "metadata": {},
   "outputs": [],
   "source": [
    "@jax.vmap\n",
    "def compute_norm(positions):\n",
    "    return jnp.sqrt(positions[:, 0]**2 + positions[:, 1]**2)"
   ]
  },
  {
   "cell_type": "code",
   "execution_count": 10,
   "metadata": {},
   "outputs": [],
   "source": [
    "norms = compute_norm(all_states)"
   ]
  },
  {
   "cell_type": "code",
   "execution_count": 11,
   "metadata": {},
   "outputs": [
    {
     "name": "stdout",
     "output_type": "stream",
     "text": [
      "(1002, 256)\n"
     ]
    }
   ],
   "source": [
    "print(jnp.shape(norms))"
   ]
  },
  {
   "cell_type": "code",
   "execution_count": 12,
   "metadata": {},
   "outputs": [],
   "source": [
    "dr = box_size/1000\n",
    "rr = jnp.arange(dr, box_size+dr, dr)\n",
    "def compute_g_quick(norms, length):\n",
    "    # set zeros to length+1 so bincount ignores \n",
    "    bins = jnp.floor(norms/dr).astype(int)\n",
    "    return jnp.bincount(bins.flatten(), length=length)\n",
    "compute_g_quick = jax.vmap(compute_g_quick, in_axes=(0, None))"
   ]
  },
  {
   "cell_type": "code",
   "execution_count": 13,
   "metadata": {},
   "outputs": [],
   "source": [
    "g_test = compute_g_quick(norms, 1000)"
   ]
  },
  {
   "cell_type": "code",
   "execution_count": 14,
   "metadata": {},
   "outputs": [
    {
     "name": "stdout",
     "output_type": "stream",
     "text": [
      "(1002, 1000)\n"
     ]
    }
   ],
   "source": [
    "print(jnp.shape(g_test))"
   ]
  },
  {
   "cell_type": "code",
   "execution_count": 15,
   "metadata": {},
   "outputs": [],
   "source": [
    "normalisation = jnp.roll(2*jnp.pi*rr*dr, 1)\n",
    "normalisation = normalisation.at[0].set(jnp.pi*dr*dr)"
   ]
  },
  {
   "cell_type": "code",
   "execution_count": 18,
   "metadata": {},
   "outputs": [
    {
     "data": {
      "image/png": "[encoded data removed]",
      "text/plain": [
       "<Figure size 640x480 with 1 Axes>"
      ]
     },
     "metadata": {},
     "output_type": "display_data"
    }
   ],
   "source": [
    "plt.plot(rr, g_test[0, :])\n",
    "plt.plot(rr, g_test[0, :]/normalisation)\n",
    "plt.axvline(box_size/2, color=\"red\")\n",
    "plt.axvline(box_size/jnp.sqrt(2), color=\"red\")\n",
    "plt.axvline(box_size, color=\"red\")\n",
    "plt.xlabel(\"r\")\n",
    "plt.ylabel(\"g(r)\")\n",
    "plt.tight_layout()\n",
    "plt.show()"
   ]
  },
  {
   "cell_type": "code",
   "execution_count": 20,
   "metadata": {},
   "outputs": [],
   "source": [
    "def brownian_simulation_vec(key, temperature, dt, steps, energy_fn):\n",
    "    pos_key, sim_key, times_key = jr.split(key, 3)\n",
    "    R = jr.uniform(pos_key, (N, 2), maxval=box_size)\n",
    "    #R = jnp.zeros((N, 2))\n",
    "\n",
    "    init_fn, apply_fn = simulate.brownian(energy_fn, shift, dt, temperature)\n",
    "    initial_state = init_fn(sim_key, R)\n",
    "    state = init_fn(sim_key, R)\n",
    "\n",
    "    do_step = lambda state, t: (apply_fn(state), apply_fn(state))\n",
    "    final_state, intermediate_states = jax.lax.scan(do_step, state, steps)\n",
    "\n",
    "    initial = initial_state.position\n",
    "    intermediate = intermediate_states.position\n",
    "    final = final_state.position\n",
    "\n",
    "    final = jnp.expand_dims(final, 0)\n",
    "    initial = jnp.expand_dims(initial, 0)\n",
    "\n",
    "    all_states = jnp.concatenate((initial, intermediate, final), axis=0)\n",
    "\n",
    "    return all_states, times_key\n",
    "\n",
    "brownian_simulation_vec = jax.vmap(brownian_simulation_vec, in_axes=(0, None, None, None, None))"
   ]
  },
  {
   "cell_type": "code",
   "execution_count": 21,
   "metadata": {},
   "outputs": [],
   "source": [
    "keys = jr.split(jr.PRNGKey(0), 1000)"
   ]
  },
  {
   "cell_type": "code",
   "execution_count": 22,
   "metadata": {},
   "outputs": [],
   "source": [
    "states, time_keys = brownian_simulation_vec(keys,  0.05, 0.01, jnp.arange(1000), lambda r: 0.)"
   ]
  },
  {
   "cell_type": "code",
   "execution_count": 23,
   "metadata": {},
   "outputs": [
    {
     "name": "stdout",
     "output_type": "stream",
     "text": [
      "(1000, 1002, 256, 2)\n"
     ]
    }
   ],
   "source": [
    "print(jnp.shape(states))"
   ]
  },
  {
   "cell_type": "code",
   "execution_count": 24,
   "metadata": {},
   "outputs": [],
   "source": [
    "def apply_correction(states, correction):\n",
    "    return states-correction\n",
    "apply_correction_vec = jax.vmap(apply_correction, in_axes=(0, None))"
   ]
  },
  {
   "cell_type": "code",
   "execution_count": 25,
   "metadata": {},
   "outputs": [
    {
     "name": "stdout",
     "output_type": "stream",
     "text": [
      "(1002, 256, 2)\n"
     ]
    }
   ],
   "source": [
    "correction = 0.5*box_size*jnp.ones_like(states[0, :, :, :])\n",
    "print(jnp.shape(correction))"
   ]
  },
  {
   "cell_type": "code",
   "execution_count": 26,
   "metadata": {},
   "outputs": [],
   "source": [
    "states_corrected = apply_correction(states, correction)"
   ]
  },
  {
   "cell_type": "code",
   "execution_count": 27,
   "metadata": {},
   "outputs": [
    {
     "name": "stdout",
     "output_type": "stream",
     "text": [
      "(1000, 1002, 256, 2)\n"
     ]
    }
   ],
   "source": [
    "print(jnp.shape(states_corrected))"
   ]
  },
  {
   "cell_type": "code",
   "execution_count": 28,
   "metadata": {},
   "outputs": [],
   "source": [
    "@jax.vmap\n",
    "def compute_more_norms(states):\n",
    "    @jax.vmap\n",
    "    def compute_norm(positions):\n",
    "        return jnp.sqrt(positions[:, 0]**2 + positions[:, 1]**2)\n",
    "    return compute_norm(states)"
   ]
  },
  {
   "cell_type": "code",
   "execution_count": 29,
   "metadata": {},
   "outputs": [],
   "source": [
    "all_norms = compute_more_norms(states_corrected)"
   ]
  },
  {
   "cell_type": "code",
   "execution_count": 30,
   "metadata": {},
   "outputs": [
    {
     "name": "stdout",
     "output_type": "stream",
     "text": [
      "(1000, 1002, 256)\n"
     ]
    }
   ],
   "source": [
    "print(jnp.shape(all_norms))"
   ]
  },
  {
   "cell_type": "code",
   "execution_count": 31,
   "metadata": {},
   "outputs": [],
   "source": [
    "norm_final = all_norms[:, -1, :]"
   ]
  },
  {
   "cell_type": "code",
   "execution_count": 35,
   "metadata": {},
   "outputs": [
    {
     "name": "stdout",
     "output_type": "stream",
     "text": [
      "(1000, 256)\n"
     ]
    }
   ],
   "source": [
    "print(jnp.shape(norm_final))"
   ]
  },
  {
   "cell_type": "code",
   "execution_count": 32,
   "metadata": {},
   "outputs": [],
   "source": [
    "dr = box_size/1000\n",
    "rr = jnp.arange(dr, box_size+dr, dr)\n",
    "def compute_g_quick(norms, length):\n",
    "    # set zeros to length+1 so bincount ignores \n",
    "    bins = jnp.floor(norms/dr).astype(int)\n",
    "    return jnp.bincount(bins.flatten(), length=length)\n",
    "compute_g_quick_vec = jax.vmap(compute_g_quick, in_axes=(0, None))"
   ]
  },
  {
   "cell_type": "code",
   "execution_count": 44,
   "metadata": {},
   "outputs": [],
   "source": [
    "all_rdfs = compute_g_quick_vec(all_norms, 1000)\n",
    "rdf_final = compute_g_quick_vec(norm_final, 1000)"
   ]
  },
  {
   "cell_type": "code",
   "execution_count": 45,
   "metadata": {},
   "outputs": [
    {
     "name": "stdout",
     "output_type": "stream",
     "text": [
      "(1000, 1000)\n",
      "(1000, 1000)\n"
     ]
    }
   ],
   "source": [
    "print(jnp.shape(all_rdfs))\n",
    "print(jnp.shape(rdf_final))"
   ]
  },
  {
   "cell_type": "code",
   "execution_count": 46,
   "metadata": {},
   "outputs": [],
   "source": [
    "rdf_avg = jnp.mean(all_rdfs, axis=0)\n",
    "rdf_avg_final = jnp.mean(rdf_final, axis=0)"
   ]
  },
  {
   "cell_type": "code",
   "execution_count": 48,
   "metadata": {},
   "outputs": [],
   "source": [
    "normalisation = jnp.roll(2*jnp.pi*rr*dr, 1)\n",
    "normalisation = normalisation.at[0].set(jnp.pi*dr*dr)"
   ]
  },
  {
   "cell_type": "code",
   "execution_count": 49,
   "metadata": {},
   "outputs": [
    {
     "data": {
      "image/png": "[encoded data removed]",
      "text/plain": [
       "<Figure size 640x480 with 1 Axes>"
      ]
     },
     "metadata": {},
     "output_type": "display_data"
    }
   ],
   "source": [
    "plt.plot(rr, rdf_avg_final)\n",
    "plt.plot(rr, rdf_avg_final/normalisation)\n",
    "plt.axvline(box_size/2, color=\"red\")\n",
    "plt.axvline(box_size/jnp.sqrt(2), color=\"red\")\n",
    "plt.axvline(box_size, color=\"red\")\n",
    "plt.xlabel(\"r\")\n",
    "plt.ylabel(\"g(r)\")\n",
    "plt.tight_layout()\n",
    "# plt.savefig(\"2d_bm_torus_initial_uniform_first_density_rdf\", dpi=300)\n",
    "plt.show()"
   ]
  }
 ],
 "metadata": {
  "kernelspec": {
   "display_name": "dev_env",
   "language": "python",
   "name": "python3"
  },
  "language_info": {
   "codemirror_mode": {
    "name": "ipython",
    "version": 3
   },
   "file_extension": ".py",
   "mimetype": "text/x-python",
   "name": "python",
   "nbconvert_exporter": "python",
   "pygments_lexer": "ipython3",
   "version": "3.11.5"
  }
 },
 "nbformat": 4,
 "nbformat_minor": 2
}
