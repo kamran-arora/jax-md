{
 "cells": [
  {
   "cell_type": "code",
   "execution_count": 1,
   "metadata": {},
   "outputs": [],
   "source": [
    "from jax_md import *\n",
    "import jax\n",
    "import jax.random as jr\n",
    "import jax.numpy as jnp\n",
    "import matplotlib.pyplot as plt\n",
    "\n",
    "# jax.config.update(\"jax_enable_x64\", True)"
   ]
  },
  {
   "cell_type": "code",
   "execution_count": 2,
   "metadata": {},
   "outputs": [],
   "source": [
    "dim = 1\n",
    "N = 256\n",
    "box_size = quantity.box_size_at_number_density(N, 1, dim)"
   ]
  },
  {
   "cell_type": "code",
   "execution_count": 3,
   "metadata": {},
   "outputs": [],
   "source": [
    "displacement, shift = space.periodic(box_size)\n",
    "metric = space.metric(displacement)\n",
    "v_displacement = space.map_product(displacement)\n",
    "v_metric = space.map_product(metric)"
   ]
  },
  {
   "cell_type": "markdown",
   "metadata": {},
   "source": [
    "My way of doing a brownian simulation, and saving the state at every timestep"
   ]
  },
  {
   "cell_type": "code",
   "execution_count": 4,
   "metadata": {},
   "outputs": [],
   "source": [
    "def brownian_simulation(key, temperature, dt, steps, energy_fn):\n",
    "    pos_key, sim_key, times_key = jr.split(key, 3)\n",
    "    # R = jr.uniform(pos_key, (N, 2), maxval=box_size)\n",
    "    #R = jnp.ones((N, 2))*0.5*box_size\n",
    "    R = jr.uniform(pos_key, (N,), maxval=box_size)\n",
    "\n",
    "    init_fn, apply_fn = simulate.brownian(energy_fn, shift, dt, temperature)\n",
    "    initial_state = init_fn(sim_key, R)\n",
    "    state = init_fn(sim_key, R)\n",
    "\n",
    "    do_step = lambda state, t: (apply_fn(state), apply_fn(state))\n",
    "    final_state, intermediate_states = jax.lax.scan(do_step, state, steps)\n",
    "\n",
    "    return initial_state.position, final_state.position, intermediate_states.position, times_key"
   ]
  },
  {
   "cell_type": "code",
   "execution_count": null,
   "metadata": {},
   "outputs": [],
   "source": [
    "initial, final, intermediate, times_key = brownian_simulation(jr.PRNGKey(0), 0.05, 0.001, jnp.arange(1000), lambda r: 0.)"
   ]
  },
  {
   "cell_type": "code",
   "execution_count": 6,
   "metadata": {},
   "outputs": [
    {
     "name": "stdout",
     "output_type": "stream",
     "text": [
      "(1002, 256)\n"
     ]
    }
   ],
   "source": [
    "final = jnp.expand_dims(final, 0)\n",
    "initial = jnp.expand_dims(initial, 0)\n",
    "all_states = jnp.concatenate((initial, intermediate, final), axis=0)\n",
    "print(jnp.shape(all_states))"
   ]
  },
  {
   "cell_type": "code",
   "execution_count": 11,
   "metadata": {},
   "outputs": [
    {
     "name": "stdout",
     "output_type": "stream",
     "text": [
      "[126.59424  225.94797   99.18753  155.52652   41.395477 171.54788\n",
      "   6.687317 137.10144   23.7005   219.3042  ]\n"
     ]
    }
   ],
   "source": [
    "print(all_states[0, :10])"
   ]
  },
  {
   "cell_type": "code",
   "execution_count": 15,
   "metadata": {},
   "outputs": [],
   "source": [
    "def pairwise_distances_2D_torus(coords, L):\n",
    "    def distance_fn(p1, p2):\n",
    "        delta = jnp.abs(p1 - p2)\n",
    "        delta = jnp.minimum(delta, L - delta)\n",
    "        return jnp.sqrt(jnp.sum(delta**2))\n",
    "\n",
    "    distance_matrix = jax.vmap(\n",
    "        lambda p1: jax.vmap(lambda p2: distance_fn(p1, p2))(coords)\n",
    "    )(coords)\n",
    "    \n",
    "    return distance_matrix"
   ]
  },
  {
   "cell_type": "code",
   "execution_count": 16,
   "metadata": {},
   "outputs": [],
   "source": [
    "pairwise_distances_2D_torus_time_vectorised = jax.vmap(pairwise_distances_2D_torus, in_axes=(0, None))"
   ]
  },
  {
   "cell_type": "code",
   "execution_count": 20,
   "metadata": {},
   "outputs": [
    {
     "name": "stdout",
     "output_type": "stream",
     "text": [
      "(1002, 256, 2)\n",
      "(256, 256)\n"
     ]
    }
   ],
   "source": [
    "print(jnp.shape(all_states))\n",
    "dists = pairwise_distances_2D_torus(all_states[-1, :, :], box_size)\n",
    "print(jnp.shape(dists))"
   ]
  },
  {
   "cell_type": "code",
   "execution_count": 25,
   "metadata": {},
   "outputs": [
    {
     "name": "stdout",
     "output_type": "stream",
     "text": [
      "(1002, 256, 256)\n"
     ]
    }
   ],
   "source": [
    "dists = jnp.zeros((1002, N, N))\n",
    "for k in range(1002):\n",
    "    d = pairwise_distances_2D_torus(all_states[k, :, :], box_size)\n",
    "    dists = dists.at[k, :, :].set(d)\n",
    "print(jnp.shape(dists))"
   ]
  },
  {
   "cell_type": "code",
   "execution_count": 26,
   "metadata": {},
   "outputs": [],
   "source": [
    "dr = box_size/1000\n",
    "rr = jnp.arange(dr, box_size+dr, dr)\n",
    "@jax.vmap\n",
    "def compute_g(dists):\n",
    "    g = jnp.zeros_like(rr)\n",
    "    for k in range(N):\n",
    "        for j in range(k+1, N):\n",
    "            r = dists[k][j]\n",
    "            bn = jnp.floor(r/dr) - 1\n",
    "            tmp = g[bn.astype(int)]\n",
    "            g = g.at[bn.astype(int)].set(tmp+2)\n",
    "    return g"
   ]
  },
  {
   "cell_type": "code",
   "execution_count": 78,
   "metadata": {},
   "outputs": [],
   "source": [
    "def compute_g_quick(dists, length):\n",
    "    # set zeros to length+1 so bincount ignores \n",
    "    dists = jnp.where(jnp.abs(dists)<1e-8, length+1, dists)\n",
    "    bins = jnp.floor(dists/dr).astype(int)\n",
    "    return jnp.bincount(bins.flatten(), length=length)\n",
    "compute_g_quick_vec = jax.vmap(compute_g_quick, in_axes=(0, None))"
   ]
  },
  {
   "cell_type": "code",
   "execution_count": 27,
   "metadata": {},
   "outputs": [],
   "source": [
    "gg = compute_g(dists)"
   ]
  },
  {
   "cell_type": "code",
   "execution_count": 79,
   "metadata": {},
   "outputs": [],
   "source": [
    "gg_quick = compute_g_quick_vec(dists, 1000)"
   ]
  },
  {
   "cell_type": "code",
   "execution_count": 80,
   "metadata": {},
   "outputs": [
    {
     "name": "stdout",
     "output_type": "stream",
     "text": [
      "False\n"
     ]
    }
   ],
   "source": [
    "print(jnp.allclose(gg, gg_quick))"
   ]
  },
  {
   "cell_type": "code",
   "execution_count": 28,
   "metadata": {},
   "outputs": [
    {
     "name": "stdout",
     "output_type": "stream",
     "text": [
      "(1002, 1000)\n"
     ]
    }
   ],
   "source": [
    "print(jnp.shape(gg))"
   ]
  },
  {
   "cell_type": "code",
   "execution_count": 37,
   "metadata": {},
   "outputs": [],
   "source": [
    "normalisation = jnp.roll(2*jnp.pi*rr*dr, 1)\n",
    "normalisation = normalisation.at[0].set(jnp.pi*dr*dr)"
   ]
  },
  {
   "cell_type": "code",
   "execution_count": 84,
   "metadata": {},
   "outputs": [
    {
     "data": {
      "image/png": "[encoded data removed]",
      "text/plain": [
       "<Figure size 640x480 with 1 Axes>"
      ]
     },
     "metadata": {},
     "output_type": "display_data"
    }
   ],
   "source": [
    "from cycler import cycler\n",
    "fig, ax = plt.subplots()\n",
    "custom_cycler = cycler(\"color\", plt.cm.Spectral(jnp.linspace(0, 1, 1000//25)))\n",
    "ax.set_prop_cycle(custom_cycler)\n",
    "ks = jnp.arange(5, 1002, 25)\n",
    "for k in ks:\n",
    "    ax.plot(rr, gg_quick[k, :])\n",
    "ax.set_xlabel(\"r\")\n",
    "ax.set_ylabel(\"g(r)\")\n",
    "#ax.set_ylim([0, 1000])\n",
    "plt.tight_layout()\n",
    "#plt.savefig(\"2d_bm_torus_initial_concpoint_time_rdf.png\", dpi=300)\n",
    "plt.show()"
   ]
  },
  {
   "cell_type": "code",
   "execution_count": 129,
   "metadata": {},
   "outputs": [
    {
     "name": "stdout",
     "output_type": "stream",
     "text": [
      "[6.30000055e-01 1.00200009e+00 1.40800011e+00 1.80800009e+00\n",
      " 2.19600010e+00 2.66200018e+00 2.94200015e+00 3.50400019e+00\n",
      " 3.95600009e+00 4.25800037e+00 4.69400024e+00 5.06200027e+00\n",
      " 5.41600037e+00 6.02800035e+00 6.43000031e+00 6.68600035e+00\n",
      " 7.39800024e+00 7.44000053e+00 8.07400036e+00 8.51800060e+00\n",
      " 9.05800056e+00 9.34400082e+00 9.51600075e+00 9.95000076e+00\n",
      " 1.04280005e+01 1.06900005e+01 1.13220005e+01 1.18120003e+01\n",
      " 1.19120007e+01 1.24620008e+01 1.28380003e+01 1.31760006e+01\n",
      " 1.35980005e+01 1.42080011e+01 1.48560009e+01 1.48820009e+01\n",
      " 1.51800003e+01 1.58860006e+01 1.60640011e+01 1.67180004e+01\n",
      " 1.67960014e+01 1.74240017e+01 1.76160011e+01 1.81459999e+01\n",
      " 1.85840015e+01 1.90340004e+01 1.95800018e+01 1.98640003e+01\n",
      " 2.03200016e+01 2.07200012e+01 2.10020008e+01 2.19160004e+01\n",
      " 2.21100006e+01 2.24060001e+01 2.29220009e+01 2.32940006e+01\n",
      " 2.37920017e+01 2.43900013e+01 2.45040016e+01 2.49040012e+01\n",
      " 2.53240013e+01 2.56160011e+01 2.62040005e+01 2.65740013e+01\n",
      " 2.68320007e+01 2.72320004e+01 2.78560009e+01 2.79140015e+01\n",
      " 2.86920013e+01 2.90560017e+01 2.91100006e+01 2.97200012e+01\n",
      " 3.02800007e+01 3.08120022e+01 3.10280018e+01 3.12540016e+01\n",
      " 3.16480007e+01 3.19980011e+01 3.29300003e+01 3.35300026e+01\n",
      " 3.32060013e+01 3.39960022e+01 3.37620010e+01 3.49060020e+01\n",
      " 3.53060036e+01 3.54380035e+01 3.54120026e+01 3.60460014e+01\n",
      " 3.64460030e+01 3.73240013e+01 3.71480026e+01 3.83640022e+01\n",
      " 3.83740005e+01 3.89020004e+01 3.96800003e+01 4.00140038e+01\n",
      " 3.98580017e+01 4.05140038e+01 4.13920021e+01 4.15020027e+01\n",
      " 4.11580009e+01 4.18680038e+01 4.27520027e+01 4.25180016e+01\n",
      " 4.32240028e+01 4.38780022e+01 4.44240036e+01 4.53460007e+01\n",
      " 4.48440018e+01 4.50420036e+01 4.63720016e+01 4.60100021e+01\n",
      " 4.71440010e+01 4.76840019e+01 4.73060036e+01 4.82580032e+01\n",
      " 4.84680023e+01 4.85000038e+01 4.91520004e+01 4.93460007e+01\n",
      " 4.98140030e+01 5.02480011e+01 5.05080032e+01 5.07940025e+01\n",
      " 5.17040024e+01 5.20180016e+01 5.24560013e+01 5.29040031e+01\n",
      " 5.30500031e+01 5.32680016e+01 5.41220016e+01 5.40100021e+01\n",
      " 5.43880043e+01 5.53840027e+01 5.56100044e+01 5.64020042e+01\n",
      " 5.55540009e+01 5.70040016e+01 5.75840034e+01 5.78520012e+01\n",
      " 5.81300011e+01 5.78860016e+01 5.86820030e+01 5.95520020e+01\n",
      " 5.99540024e+01 5.96700020e+01 6.03900032e+01 6.13360023e+01\n",
      " 6.06860046e+01 6.13720016e+01 6.21820030e+01 6.25740013e+01\n",
      " 6.32940025e+01 6.31780014e+01 6.37020035e+01 6.41320038e+01\n",
      " 6.47560043e+01 6.46660004e+01 6.53920059e+01 6.59940033e+01\n",
      " 6.66660004e+01 6.61360016e+01 6.78460007e+01 6.76600037e+01\n",
      " 6.70480042e+01 6.82860031e+01 6.91040039e+01 6.90760040e+01\n",
      " 7.00920029e+01 7.02400055e+01 7.07800064e+01 7.09520035e+01\n",
      " 7.16640015e+01 7.23740005e+01 7.23860016e+01 7.25080032e+01\n",
      " 7.36140060e+01 7.28680038e+01 7.37500000e+01 7.39660034e+01\n",
      " 7.51040039e+01 7.41620026e+01 7.50020065e+01 7.55200043e+01\n",
      " 7.56500015e+01 7.66360016e+01 7.68760071e+01 7.81700058e+01\n",
      " 7.83940048e+01 7.75960007e+01 7.82960052e+01 7.88760071e+01\n",
      " 8.01560059e+01 7.96620026e+01 8.03620071e+01 8.01060028e+01\n",
      " 8.07680054e+01 8.13900070e+01 8.13520050e+01 8.20600052e+01\n",
      " 8.23740005e+01 8.25280075e+01 8.36960068e+01 8.43560028e+01\n",
      " 8.42640076e+01 8.47980042e+01 8.56140060e+01 8.60620041e+01\n",
      " 8.62880020e+01 8.60820007e+01 8.70560074e+01 8.66280060e+01\n",
      " 8.75260010e+01 8.86540070e+01 8.88780060e+01 8.75540009e+01\n",
      " 8.91560059e+01 8.90040054e+01 9.02420044e+01 9.03560028e+01\n",
      " 9.06200027e+01 9.13260040e+01 9.17720032e+01 9.16600037e+01\n",
      " 9.33420029e+01 9.33540039e+01 9.35380020e+01 9.46180038e+01\n",
      " 9.37140045e+01 9.40120010e+01 9.52120056e+01 9.49460068e+01\n",
      " 9.53020020e+01 9.65040054e+01 9.61660080e+01 9.63800049e+01\n",
      " 9.65920029e+01 9.75040054e+01 9.77700043e+01 9.90860062e+01\n",
      " 9.89360046e+01 9.89280014e+01 1.00122002e+02 1.00328003e+02\n",
      " 1.00674004e+02 1.00770004e+02 1.01786003e+02 1.02536003e+02\n",
      " 1.02126007e+02 1.01966003e+02 1.02972008e+02 1.02874008e+02\n",
      " 1.03724007e+02 1.04466003e+02 1.05312004e+02 1.04568008e+02\n",
      " 1.05016006e+02 1.05440002e+02 1.06162003e+02 1.07388008e+02\n",
      " 1.07232002e+02 1.07204002e+02 1.08538002e+02 1.08500008e+02\n",
      " 1.09368004e+02 1.09002007e+02 1.09780006e+02 1.10560005e+02\n",
      " 1.11014008e+02 1.11452003e+02 1.11714005e+02 1.11424004e+02\n",
      " 1.13184006e+02 1.13378006e+02 1.12574005e+02 1.13114006e+02\n",
      " 1.13700005e+02 1.14156006e+02 1.14610008e+02 1.15274002e+02\n",
      " 1.15472008e+02 1.15732002e+02 1.15920006e+02 1.16604004e+02\n",
      " 1.16846008e+02 1.17092003e+02 1.18496002e+02 1.18296005e+02\n",
      " 1.18644005e+02 1.19198006e+02 1.18954002e+02 1.20028008e+02\n",
      " 1.20370003e+02 1.20862007e+02 1.22208008e+02 1.21740005e+02\n",
      " 1.21690002e+02 1.22252007e+02 1.22208008e+02 1.22956009e+02\n",
      " 1.23002007e+02 1.23134003e+02 1.24472008e+02 1.24616005e+02\n",
      " 1.24988007e+02 1.24726006e+02 1.24714005e+02 1.26470009e+02\n",
      " 1.26742004e+02 1.27420006e+02 1.27438004e+02 1.28166000e+02\n",
      " 1.28230011e+02 1.28986008e+02 1.30442001e+02 1.30050003e+02\n",
      " 1.30264008e+02 1.31406006e+02 1.30898010e+02 1.31794006e+02\n",
      " 1.31902008e+02 1.32682007e+02 1.32658005e+02 1.32412003e+02\n",
      " 1.33926010e+02 1.33628006e+02 1.34764008e+02 1.35632004e+02\n",
      " 1.35690002e+02 1.35182007e+02 1.35852005e+02 1.35942001e+02\n",
      " 1.36970001e+02 1.36684006e+02 1.38068008e+02 1.37326004e+02\n",
      " 1.37462006e+02 1.38856003e+02 1.38878006e+02 1.40028000e+02\n",
      " 1.40880005e+02 1.39860001e+02 1.39973999e+02 1.41326004e+02\n",
      " 1.41516006e+02 1.42002014e+02 1.43218002e+02 1.43286011e+02\n",
      " 1.42946014e+02 1.42834000e+02 1.44434006e+02 1.43998001e+02\n",
      " 1.44320007e+02 1.45486008e+02 1.46310013e+02 1.45646011e+02\n",
      " 1.46406006e+02 1.47292007e+02 1.47268005e+02 1.48266006e+02\n",
      " 1.47824005e+02 1.48144012e+02 1.49336014e+02 1.49160004e+02\n",
      " 1.50172012e+02 1.51478012e+02 1.51066010e+02 1.51376007e+02\n",
      " 1.52422012e+02 1.51552002e+02 1.52028000e+02 1.52930008e+02\n",
      " 1.53758011e+02 1.53048004e+02 1.54140015e+02 1.53744003e+02\n",
      " 1.54412003e+02 1.54714005e+02 1.54826004e+02 1.56460007e+02\n",
      " 1.57090012e+02 1.57514008e+02 1.56414001e+02 1.58170013e+02\n",
      " 1.58292007e+02 1.58478012e+02 1.59458008e+02 1.59084015e+02\n",
      " 1.59628006e+02 1.61238007e+02 1.61038010e+02 1.60188004e+02\n",
      " 1.61538010e+02 1.62180008e+02 1.63238007e+02 1.62552002e+02\n",
      " 1.63366013e+02 1.64540009e+02 1.63118011e+02 1.63460007e+02\n",
      " 1.65682007e+02 1.65166000e+02 1.65320007e+02 1.67378006e+02\n",
      " 1.66412003e+02 1.67070007e+02 1.67186005e+02 1.68052002e+02\n",
      " 1.67678009e+02 1.68036011e+02 1.68316010e+02 1.68686005e+02\n",
      " 1.70318008e+02 1.69594009e+02 1.70532013e+02 1.71042007e+02\n",
      " 1.71708008e+02 1.71276001e+02 1.71270004e+02 1.71888016e+02\n",
      " 1.72220001e+02 1.73714005e+02 1.73766006e+02 1.74808014e+02\n",
      " 1.74126007e+02 1.76102005e+02 1.75758011e+02 1.75848007e+02\n",
      " 1.74898010e+02 1.76672012e+02 1.76958008e+02 1.76506012e+02\n",
      " 1.78986008e+02 1.78724014e+02 1.78580002e+02 1.79846008e+02\n",
      " 1.80332016e+02 1.79270004e+02 1.79472015e+02 1.81008011e+02\n",
      " 1.82122009e+02 1.81674011e+02 1.82390015e+02 1.82930008e+02\n",
      " 1.82906006e+02 1.84390015e+02 1.83800003e+02 1.84244003e+02\n",
      " 1.83682007e+02 1.84354004e+02 1.85930008e+02 1.86128006e+02\n",
      " 1.85714005e+02 1.86528015e+02 1.86390015e+02 1.86808014e+02\n",
      " 1.88496002e+02 1.87966003e+02 1.88842010e+02 1.88950012e+02\n",
      " 1.89222015e+02 1.89886002e+02 1.89222015e+02 1.90246002e+02\n",
      " 1.91714005e+02 1.90412003e+02 1.91986008e+02 1.93278015e+02\n",
      " 1.92322006e+02 1.92864014e+02 1.92942017e+02 1.92738007e+02\n",
      " 1.93322006e+02 1.95354004e+02 1.95028015e+02 1.94626007e+02\n",
      " 1.95698013e+02 1.96034012e+02 1.96958008e+02 1.96848007e+02\n",
      " 1.97202011e+02 1.97256012e+02 1.98500015e+02 1.98372009e+02\n",
      " 1.99540009e+02 1.98546005e+02 1.99038010e+02 1.99738007e+02\n",
      " 2.01524002e+02 2.00988007e+02 2.01892014e+02 2.01022003e+02\n",
      " 2.01502014e+02 2.02926010e+02 2.02062012e+02 2.03752014e+02\n",
      " 2.03240005e+02 2.04818008e+02 2.05068008e+02 1.92976013e+02\n",
      " 1.85358002e+02 1.80366013e+02 1.75034012e+02 1.71634003e+02\n",
      " 1.68846008e+02 1.64354004e+02 1.62858002e+02 1.59986008e+02\n",
      " 1.56764008e+02 1.55994003e+02 1.52984009e+02 1.50924011e+02\n",
      " 1.49004013e+02 1.47240005e+02 1.45084000e+02 1.44582001e+02\n",
      " 1.41830002e+02 1.40424011e+02 1.38674011e+02 1.36854004e+02\n",
      " 1.35592010e+02 1.34104004e+02 1.31758011e+02 1.30723999e+02\n",
      " 1.30008011e+02 1.28692001e+02 1.26686005e+02 1.26588005e+02\n",
      " 1.24992004e+02 1.23376007e+02 1.23076004e+02 1.20728004e+02\n",
      " 1.20016006e+02 1.17948006e+02 1.16696007e+02 1.16620003e+02\n",
      " 1.15852005e+02 1.14410004e+02 1.12544006e+02 1.11994003e+02\n",
      " 1.11090004e+02 1.09478004e+02 1.08316002e+02 1.08096008e+02\n",
      " 1.06326004e+02 1.05414001e+02 1.04962006e+02 1.03620003e+02\n",
      " 1.03504005e+02 1.01470001e+02 1.00294006e+02 9.91920013e+01\n",
      " 9.85620041e+01 9.76940079e+01 9.75580063e+01 9.58080063e+01\n",
      " 9.50080032e+01 9.49300079e+01 9.37080078e+01 9.26720047e+01\n",
      " 9.15300064e+01 9.03220062e+01 9.02380066e+01 8.87460022e+01\n",
      " 8.81980057e+01 8.83420029e+01 8.73300018e+01 8.56780014e+01\n",
      " 8.53160019e+01 8.44320068e+01 8.34160004e+01 8.21680069e+01\n",
      " 8.18960037e+01 8.10120010e+01 8.00560074e+01 7.97540054e+01\n",
      " 7.87440033e+01 7.82100067e+01 7.71140060e+01 7.58840027e+01\n",
      " 7.46260071e+01 7.44240036e+01 7.40600052e+01 7.28640060e+01\n",
      " 7.28540039e+01 7.19720001e+01 7.08460007e+01 7.05400009e+01\n",
      " 6.96620026e+01 6.92060013e+01 6.83780060e+01 6.76660004e+01\n",
      " 6.69180069e+01 6.70200043e+01 6.56780014e+01 6.44660034e+01\n",
      " 6.44420013e+01 6.31740036e+01 6.34420013e+01 6.24640045e+01\n",
      " 6.13680038e+01 6.14140015e+01 6.00760040e+01 5.88440018e+01\n",
      " 5.87340012e+01 5.77560043e+01 5.76020012e+01 5.67780037e+01\n",
      " 5.62500038e+01 5.52440033e+01 5.52680016e+01 5.41980019e+01\n",
      " 5.30900040e+01 5.29720039e+01 5.24300041e+01 5.12640038e+01\n",
      " 5.12180023e+01 5.04780006e+01 5.00060005e+01 4.91060028e+01\n",
      " 4.81660042e+01 4.87640038e+01 4.71080017e+01 4.66260033e+01\n",
      " 4.52540016e+01 4.52140007e+01 4.48640022e+01 4.37960014e+01\n",
      " 4.35820007e+01 4.30820007e+01 4.24360008e+01 4.19420013e+01\n",
      " 4.11660004e+01 4.07380028e+01 4.00500031e+01 3.92660027e+01\n",
      " 3.89720001e+01 3.82740021e+01 3.73000031e+01 3.69160004e+01\n",
      " 3.64080009e+01 3.56500015e+01 3.50860023e+01 3.42460022e+01\n",
      " 3.45820007e+01 3.39080009e+01 3.28500023e+01 3.21120033e+01\n",
      " 3.24420013e+01 3.10580006e+01 3.08460007e+01 3.00820007e+01\n",
      " 2.93860016e+01 2.84460011e+01 2.82940006e+01 2.76340008e+01\n",
      " 2.66960011e+01 2.68860016e+01 2.59920006e+01 2.46460018e+01\n",
      " 2.45740013e+01 2.42160015e+01 2.38080006e+01 2.28460007e+01\n",
      " 2.28100014e+01 2.17280006e+01 2.11540012e+01 2.10700016e+01\n",
      " 2.04920006e+01 1.96840000e+01 1.91060009e+01 1.85000000e+01\n",
      " 1.82160015e+01 1.76080017e+01 1.68700008e+01 1.64280014e+01\n",
      " 1.54620008e+01 1.52340012e+01 1.46540003e+01 1.41280003e+01\n",
      " 1.38860006e+01 1.29580002e+01 1.25860004e+01 1.19920006e+01\n",
      " 1.13780003e+01 1.11380005e+01 1.03960009e+01 9.99200058e+00\n",
      " 9.11600018e+00 8.93400002e+00 8.32400036e+00 7.92000055e+00\n",
      " 7.05000019e+00 6.82800055e+00 6.22800016e+00 5.45000029e+00\n",
      " 5.03800011e+00 4.49400043e+00 3.99400020e+00 3.36200023e+00\n",
      " 2.97600007e+00 2.52000022e+00 1.96400011e+00 1.39200008e+00\n",
      " 8.92000020e-01 3.54000002e-01 8.00000038e-03 0.00000000e+00\n",
      " 0.00000000e+00 0.00000000e+00 0.00000000e+00 0.00000000e+00\n",
      " 0.00000000e+00 0.00000000e+00 0.00000000e+00 0.00000000e+00\n",
      " 0.00000000e+00 0.00000000e+00 0.00000000e+00 0.00000000e+00\n",
      " 0.00000000e+00 0.00000000e+00 0.00000000e+00 0.00000000e+00\n",
      " 0.00000000e+00 0.00000000e+00 0.00000000e+00 0.00000000e+00\n",
      " 0.00000000e+00 0.00000000e+00 0.00000000e+00 0.00000000e+00\n",
      " 0.00000000e+00 0.00000000e+00 0.00000000e+00 0.00000000e+00\n",
      " 0.00000000e+00 0.00000000e+00 0.00000000e+00 0.00000000e+00\n",
      " 0.00000000e+00 0.00000000e+00 0.00000000e+00 0.00000000e+00\n",
      " 0.00000000e+00 0.00000000e+00 0.00000000e+00 0.00000000e+00\n",
      " 0.00000000e+00 0.00000000e+00 0.00000000e+00 0.00000000e+00\n",
      " 0.00000000e+00 0.00000000e+00 0.00000000e+00 0.00000000e+00\n",
      " 0.00000000e+00 0.00000000e+00 0.00000000e+00 0.00000000e+00\n",
      " 0.00000000e+00 0.00000000e+00 0.00000000e+00 0.00000000e+00\n",
      " 0.00000000e+00 0.00000000e+00 0.00000000e+00 0.00000000e+00\n",
      " 0.00000000e+00 0.00000000e+00 0.00000000e+00 0.00000000e+00\n",
      " 0.00000000e+00 0.00000000e+00 0.00000000e+00 0.00000000e+00\n",
      " 0.00000000e+00 0.00000000e+00 0.00000000e+00 0.00000000e+00\n",
      " 0.00000000e+00 0.00000000e+00 0.00000000e+00 0.00000000e+00\n",
      " 0.00000000e+00 0.00000000e+00 0.00000000e+00 0.00000000e+00\n",
      " 0.00000000e+00 0.00000000e+00 0.00000000e+00 0.00000000e+00\n",
      " 0.00000000e+00 0.00000000e+00 0.00000000e+00 0.00000000e+00\n",
      " 0.00000000e+00 0.00000000e+00 0.00000000e+00 0.00000000e+00\n",
      " 0.00000000e+00 0.00000000e+00 0.00000000e+00 0.00000000e+00\n",
      " 0.00000000e+00 0.00000000e+00 0.00000000e+00 0.00000000e+00\n",
      " 0.00000000e+00 0.00000000e+00 0.00000000e+00 0.00000000e+00\n",
      " 0.00000000e+00 0.00000000e+00 0.00000000e+00 0.00000000e+00\n",
      " 0.00000000e+00 0.00000000e+00 0.00000000e+00 0.00000000e+00\n",
      " 0.00000000e+00 0.00000000e+00 0.00000000e+00 0.00000000e+00\n",
      " 0.00000000e+00 0.00000000e+00 0.00000000e+00 0.00000000e+00\n",
      " 0.00000000e+00 0.00000000e+00 0.00000000e+00 0.00000000e+00\n",
      " 0.00000000e+00 0.00000000e+00 0.00000000e+00 0.00000000e+00\n",
      " 0.00000000e+00 0.00000000e+00 0.00000000e+00 0.00000000e+00\n",
      " 0.00000000e+00 0.00000000e+00 0.00000000e+00 0.00000000e+00\n",
      " 0.00000000e+00 0.00000000e+00 0.00000000e+00 0.00000000e+00\n",
      " 0.00000000e+00 0.00000000e+00 0.00000000e+00 0.00000000e+00\n",
      " 0.00000000e+00 0.00000000e+00 0.00000000e+00 0.00000000e+00\n",
      " 0.00000000e+00 0.00000000e+00 0.00000000e+00 0.00000000e+00\n",
      " 0.00000000e+00 0.00000000e+00 0.00000000e+00 0.00000000e+00\n",
      " 0.00000000e+00 0.00000000e+00 0.00000000e+00 0.00000000e+00\n",
      " 0.00000000e+00 0.00000000e+00 0.00000000e+00 0.00000000e+00\n",
      " 0.00000000e+00 0.00000000e+00 0.00000000e+00 0.00000000e+00\n",
      " 0.00000000e+00 0.00000000e+00 0.00000000e+00 0.00000000e+00\n",
      " 0.00000000e+00 0.00000000e+00 0.00000000e+00 0.00000000e+00\n",
      " 0.00000000e+00 0.00000000e+00 0.00000000e+00 0.00000000e+00\n",
      " 0.00000000e+00 0.00000000e+00 0.00000000e+00 0.00000000e+00\n",
      " 0.00000000e+00 0.00000000e+00 0.00000000e+00 0.00000000e+00\n",
      " 0.00000000e+00 0.00000000e+00 0.00000000e+00 0.00000000e+00\n",
      " 0.00000000e+00 0.00000000e+00 0.00000000e+00 0.00000000e+00\n",
      " 0.00000000e+00 0.00000000e+00 0.00000000e+00 0.00000000e+00\n",
      " 0.00000000e+00 0.00000000e+00 0.00000000e+00 0.00000000e+00\n",
      " 0.00000000e+00 0.00000000e+00 0.00000000e+00 0.00000000e+00\n",
      " 0.00000000e+00 0.00000000e+00 0.00000000e+00 0.00000000e+00\n",
      " 0.00000000e+00 0.00000000e+00 0.00000000e+00 0.00000000e+00\n",
      " 0.00000000e+00 0.00000000e+00 0.00000000e+00 0.00000000e+00\n",
      " 0.00000000e+00 0.00000000e+00 0.00000000e+00 0.00000000e+00\n",
      " 0.00000000e+00 0.00000000e+00 0.00000000e+00 0.00000000e+00\n",
      " 0.00000000e+00 0.00000000e+00 0.00000000e+00 0.00000000e+00\n",
      " 0.00000000e+00 0.00000000e+00 0.00000000e+00 0.00000000e+00\n",
      " 0.00000000e+00 0.00000000e+00 0.00000000e+00 0.00000000e+00\n",
      " 0.00000000e+00 0.00000000e+00 0.00000000e+00 0.00000000e+00\n",
      " 0.00000000e+00 0.00000000e+00 0.00000000e+00 0.00000000e+00\n",
      " 0.00000000e+00 0.00000000e+00 0.00000000e+00 0.00000000e+00\n",
      " 0.00000000e+00 0.00000000e+00 0.00000000e+00 0.00000000e+00\n",
      " 0.00000000e+00 0.00000000e+00 0.00000000e+00 0.00000000e+00\n",
      " 0.00000000e+00 0.00000000e+00 0.00000000e+00 0.00000000e+00\n",
      " 0.00000000e+00 0.00000000e+00 0.00000000e+00 0.00000000e+00\n",
      " 0.00000000e+00 0.00000000e+00 0.00000000e+00 0.00000000e+00\n",
      " 0.00000000e+00 0.00000000e+00 0.00000000e+00 0.00000000e+00\n",
      " 0.00000000e+00 0.00000000e+00 0.00000000e+00 0.00000000e+00\n",
      " 0.00000000e+00 0.00000000e+00 0.00000000e+00 0.00000000e+00\n",
      " 0.00000000e+00 0.00000000e+00 0.00000000e+00 0.00000000e+00\n",
      " 0.00000000e+00 0.00000000e+00 0.00000000e+00 1.80000007e-01]\n"
     ]
    }
   ],
   "source": [
    "print(rdf_avg)"
   ]
  }
 ],
 "metadata": {
  "kernelspec": {
   "display_name": "dev_env",
   "language": "python",
   "name": "python3"
  },
  "language_info": {
   "codemirror_mode": {
    "name": "ipython",
    "version": 3
   },
   "file_extension": ".py",
   "mimetype": "text/x-python",
   "name": "python",
   "nbconvert_exporter": "python",
   "pygments_lexer": "ipython3",
   "version": "3.11.5"
  }
 },
 "nbformat": 4,
 "nbformat_minor": 2
}
