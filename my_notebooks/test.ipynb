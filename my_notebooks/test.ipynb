{
 "cells": [
  {
   "cell_type": "code",
   "execution_count": 2,
   "metadata": {},
   "outputs": [],
   "source": [
    "import jax\n",
    "import jax.numpy as jnp\n",
    "import jax.random as jr"
   ]
  },
  {
   "cell_type": "code",
   "execution_count": 3,
   "metadata": {},
   "outputs": [],
   "source": [
    "def cdist(x, y):\n",
    "    '''\n",
    "    Computes the pairwise euclidean distance between two arrays\n",
    "\n",
    "    Inputs:\n",
    "    ------------\n",
    "    x: Array (N, d)\n",
    "    y: Array (N, d)\n",
    "\n",
    "    Returns:\n",
    "    ------------\n",
    "    dists: Array (N, N)\n",
    "    '''\n",
    "    # insert dimension checking\n",
    "    dists = jnp.sqrt(((x[:, None, :] - y[None, :, :]) ** 2).sum(-1))\n",
    "    return dists"
   ]
  },
  {
   "cell_type": "code",
   "execution_count": 4,
   "metadata": {},
   "outputs": [],
   "source": [
    "def pdist(x):\n",
    "    return cdist(x, x)\n",
    "\n",
    "def pdist_single_sim(x):\n",
    "    return jax.vmap(pdist, 0)(x)\n",
    "\n",
    "def pdist_all_sim(x):\n",
    "    return jax.vmap(pdist_single_sim, 0)(x)"
   ]
  },
  {
   "cell_type": "code",
   "execution_count": 22,
   "metadata": {},
   "outputs": [],
   "source": [
    "def pdist_sims_and_times(x):\n",
    "    return jax.vmap(jax.vmap(pdist, 0), 0)(x)"
   ]
  },
  {
   "cell_type": "code",
   "execution_count": 5,
   "metadata": {},
   "outputs": [],
   "source": [
    "x = jr.randint(jr.PRNGKey(0), shape=(10, 100, 8, 2), minval=0, maxval=5)\n",
    "all_distances = jax.vmap(jax.vmap(pdist, 0), 0)(x)"
   ]
  },
  {
   "cell_type": "code",
   "execution_count": 6,
   "metadata": {},
   "outputs": [
    {
     "name": "stdout",
     "output_type": "stream",
     "text": [
      "(10, 100, 8, 8)\n"
     ]
    }
   ],
   "source": [
    "print(jnp.shape(all_distances))"
   ]
  },
  {
   "cell_type": "code",
   "execution_count": 8,
   "metadata": {},
   "outputs": [
    {
     "name": "stdout",
     "output_type": "stream",
     "text": [
      "[[0.       2.828427]\n",
      " [2.828427 0.      ]]\n"
     ]
    }
   ],
   "source": [
    "a = jnp.array([[1, 2], [3, 4]])\n",
    "print(pdist(a))"
   ]
  },
  {
   "cell_type": "code",
   "execution_count": 16,
   "metadata": {},
   "outputs": [],
   "source": [
    "aa = jnp.tile(a, (10, 100, 1, 1))"
   ]
  },
  {
   "cell_type": "code",
   "execution_count": 17,
   "metadata": {},
   "outputs": [],
   "source": [
    "adists = jax.vmap(jax.vmap(pdist, 0), 0)(aa)"
   ]
  },
  {
   "cell_type": "code",
   "execution_count": 18,
   "metadata": {},
   "outputs": [
    {
     "name": "stdout",
     "output_type": "stream",
     "text": [
      "(10, 100, 2, 2)\n"
     ]
    }
   ],
   "source": [
    "print(jnp.shape(adists))"
   ]
  },
  {
   "cell_type": "code",
   "execution_count": 21,
   "metadata": {},
   "outputs": [
    {
     "name": "stdout",
     "output_type": "stream",
     "text": [
      "[[0.       2.828427]\n",
      " [2.828427 0.      ]]\n"
     ]
    }
   ],
   "source": [
    "print(adists[5, 46, :, :])"
   ]
  },
  {
   "cell_type": "code",
   "execution_count": 30,
   "metadata": {},
   "outputs": [
    {
     "name": "stdout",
     "output_type": "stream",
     "text": [
      "(10, 100, 2, 2)\n",
      "[[0.       2.828427]\n",
      " [2.828427 0.      ]]\n"
     ]
    }
   ],
   "source": [
    "tt = pdist_sims_and_times(aa)\n",
    "print(jnp.shape(tt))\n",
    "print(tt[1, 45, :, :])"
   ]
  },
  {
   "cell_type": "code",
   "execution_count": 17,
   "metadata": {},
   "outputs": [],
   "source": [
    "from distances import *\n",
    "xx = jnp.array([[0.1, 0.05], [0.75, 0.95]])"
   ]
  },
  {
   "cell_type": "code",
   "execution_count": 9,
   "metadata": {},
   "outputs": [],
   "source": [
    "delta = jnp.abs(xx[:, None, :] - xx[None, :, :])"
   ]
  },
  {
   "cell_type": "code",
   "execution_count": 14,
   "metadata": {},
   "outputs": [
    {
     "name": "stdout",
     "output_type": "stream",
     "text": [
      "(2, 2, 2)\n",
      "[[[1.         1.        ]\n",
      "  [0.35000002 0.10000002]]\n",
      "\n",
      " [[0.35000002 0.10000002]\n",
      "  [1.         1.        ]]]\n"
     ]
    }
   ],
   "source": [
    "print(jnp.shape(delta))\n",
    "print(-delta+1)"
   ]
  },
  {
   "cell_type": "code",
   "execution_count": 27,
   "metadata": {},
   "outputs": [],
   "source": [
    "def periodic1(p1, p2, L):\n",
    "    \"\"\"\n",
    "    p1: [x1, y1]\n",
    "    p2: [x2, y2]\n",
    "    L: [Lx, Ly]\n",
    "    \"\"\"\n",
    "    _r = p1 - p2\n",
    "    _r = _r - L*jnp.rint(_r/L)\n",
    "    return jnp.sqrt(jnp.sum(_r*_r))"
   ]
  },
  {
   "cell_type": "markdown",
   "metadata": {},
   "source": [
    "- periodic1 takes as input two points of shape (d,) and sidelengths of shape (d,). It returns the nearest image euclidean distance between these points on a square/cube etc. of dimensions L_x x L_y x ...\n",
    "- next we need to vmap this over arrays of shape (N, d) to compute a matrix of shape (N, N) storing the pairwise nearest image euclidean distances\n",
    "- then double vmap this over the timesteps and simulations"
   ]
  },
  {
   "cell_type": "code",
   "execution_count": 37,
   "metadata": {},
   "outputs": [
    {
     "name": "stdout",
     "output_type": "stream",
     "text": [
      "0.36400554\n",
      "[[0.1  0.05]\n",
      " [0.75 0.95]]\n"
     ]
    }
   ],
   "source": [
    "p1 = jnp.array([0.1, 0.05])\n",
    "p2 = jnp.array([0.75, 0.95])\n",
    "print(periodic1(p1, p2, 1))\n",
    "p = jnp.vstack((p1, p2))\n",
    "print(p)"
   ]
  },
  {
   "cell_type": "code",
   "execution_count": 58,
   "metadata": {},
   "outputs": [],
   "source": [
    "def periodic2(p, L):\n",
    "    return jax.vmap(lambda p1: jax.vmap(lambda p2: periodic1(p1, p2, L))(p)\n",
    "    )(p)"
   ]
  },
  {
   "cell_type": "code",
   "execution_count": 59,
   "metadata": {},
   "outputs": [
    {
     "name": "stdout",
     "output_type": "stream",
     "text": [
      "[[0.         0.36400554]\n",
      " [0.36400554 0.        ]]\n"
     ]
    }
   ],
   "source": [
    "print(periodic2(p, 1))"
   ]
  },
  {
   "cell_type": "code",
   "execution_count": 68,
   "metadata": {},
   "outputs": [],
   "source": [
    "def periodic3(p, L):\n",
    "    return jax.vmap(jax.vmap(periodic2, (0, None)), (0, None))(p, L)"
   ]
  },
  {
   "cell_type": "code",
   "execution_count": 69,
   "metadata": {},
   "outputs": [],
   "source": [
    "pp = jnp.tile(p, (10, 100, 1, 1))"
   ]
  },
  {
   "cell_type": "code",
   "execution_count": 70,
   "metadata": {},
   "outputs": [
    {
     "name": "stdout",
     "output_type": "stream",
     "text": [
      "[[[[0.         0.36400554]\n",
      "   [0.36400554 0.        ]]\n",
      "\n",
      "  [[0.         0.36400554]\n",
      "   [0.36400554 0.        ]]\n",
      "\n",
      "  [[0.         0.36400554]\n",
      "   [0.36400554 0.        ]]\n",
      "\n",
      "  ...\n",
      "\n",
      "  [[0.         0.36400554]\n",
      "   [0.36400554 0.        ]]\n",
      "\n",
      "  [[0.         0.36400554]\n",
      "   [0.36400554 0.        ]]\n",
      "\n",
      "  [[0.         0.36400554]\n",
      "   [0.36400554 0.        ]]]\n",
      "\n",
      "\n",
      " [[[0.         0.36400554]\n",
      "   [0.36400554 0.        ]]\n",
      "\n",
      "  [[0.         0.36400554]\n",
      "   [0.36400554 0.        ]]\n",
      "\n",
      "  [[0.         0.36400554]\n",
      "   [0.36400554 0.        ]]\n",
      "\n",
      "  ...\n",
      "\n",
      "  [[0.         0.36400554]\n",
      "   [0.36400554 0.        ]]\n",
      "\n",
      "  [[0.         0.36400554]\n",
      "   [0.36400554 0.        ]]\n",
      "\n",
      "  [[0.         0.36400554]\n",
      "   [0.36400554 0.        ]]]\n",
      "\n",
      "\n",
      " [[[0.         0.36400554]\n",
      "   [0.36400554 0.        ]]\n",
      "\n",
      "  [[0.         0.36400554]\n",
      "   [0.36400554 0.        ]]\n",
      "\n",
      "  [[0.         0.36400554]\n",
      "   [0.36400554 0.        ]]\n",
      "\n",
      "  ...\n",
      "\n",
      "  [[0.         0.36400554]\n",
      "   [0.36400554 0.        ]]\n",
      "\n",
      "  [[0.         0.36400554]\n",
      "   [0.36400554 0.        ]]\n",
      "\n",
      "  [[0.         0.36400554]\n",
      "   [0.36400554 0.        ]]]\n",
      "\n",
      "\n",
      " ...\n",
      "\n",
      "\n",
      " [[[0.         0.36400554]\n",
      "   [0.36400554 0.        ]]\n",
      "\n",
      "  [[0.         0.36400554]\n",
      "   [0.36400554 0.        ]]\n",
      "\n",
      "  [[0.         0.36400554]\n",
      "   [0.36400554 0.        ]]\n",
      "\n",
      "  ...\n",
      "\n",
      "  [[0.         0.36400554]\n",
      "   [0.36400554 0.        ]]\n",
      "\n",
      "  [[0.         0.36400554]\n",
      "   [0.36400554 0.        ]]\n",
      "\n",
      "  [[0.         0.36400554]\n",
      "   [0.36400554 0.        ]]]\n",
      "\n",
      "\n",
      " [[[0.         0.36400554]\n",
      "   [0.36400554 0.        ]]\n",
      "\n",
      "  [[0.         0.36400554]\n",
      "   [0.36400554 0.        ]]\n",
      "\n",
      "  [[0.         0.36400554]\n",
      "   [0.36400554 0.        ]]\n",
      "\n",
      "  ...\n",
      "\n",
      "  [[0.         0.36400554]\n",
      "   [0.36400554 0.        ]]\n",
      "\n",
      "  [[0.         0.36400554]\n",
      "   [0.36400554 0.        ]]\n",
      "\n",
      "  [[0.         0.36400554]\n",
      "   [0.36400554 0.        ]]]\n",
      "\n",
      "\n",
      " [[[0.         0.36400554]\n",
      "   [0.36400554 0.        ]]\n",
      "\n",
      "  [[0.         0.36400554]\n",
      "   [0.36400554 0.        ]]\n",
      "\n",
      "  [[0.         0.36400554]\n",
      "   [0.36400554 0.        ]]\n",
      "\n",
      "  ...\n",
      "\n",
      "  [[0.         0.36400554]\n",
      "   [0.36400554 0.        ]]\n",
      "\n",
      "  [[0.         0.36400554]\n",
      "   [0.36400554 0.        ]]\n",
      "\n",
      "  [[0.         0.36400554]\n",
      "   [0.36400554 0.        ]]]]\n"
     ]
    }
   ],
   "source": [
    "print(periodic3(pp, 1))"
   ]
  },
  {
   "cell_type": "code",
   "execution_count": 71,
   "metadata": {},
   "outputs": [
    {
     "name": "stdout",
     "output_type": "stream",
     "text": [
      "(10, 100, 2, 2)\n"
     ]
    }
   ],
   "source": [
    "print(jnp.shape(periodic3(pp, 1)))"
   ]
  }
 ],
 "metadata": {
  "kernelspec": {
   "display_name": "dev_env",
   "language": "python",
   "name": "python3"
  },
  "language_info": {
   "codemirror_mode": {
    "name": "ipython",
    "version": 3
   },
   "file_extension": ".py",
   "mimetype": "text/x-python",
   "name": "python",
   "nbconvert_exporter": "python",
   "pygments_lexer": "ipython3",
   "version": "3.11.5"
  }
 },
 "nbformat": 4,
 "nbformat_minor": 2
}
